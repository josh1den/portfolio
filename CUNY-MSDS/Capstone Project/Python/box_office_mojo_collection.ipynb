{
 "cells": [
  {
   "cell_type": "code",
   "execution_count": 109,
   "id": "d006ba3f",
   "metadata": {},
   "outputs": [],
   "source": [
    "import pandas as pd\n",
    "from bs4 import BeautifulSoup\n",
    "import requests\n",
    "import re\n",
    "import time"
   ]
  },
  {
   "cell_type": "code",
   "execution_count": 180,
   "id": "218c9ea6",
   "metadata": {},
   "outputs": [],
   "source": [
    "url = \"https://www.boxofficemojo.com/year/\"\n",
    "year = \"2022\"\n",
    "\n",
    "# response = requests.get(url+year)\n",
    "# soup = BeautifulSoup(response.text, 'html.parser')"
   ]
  },
  {
   "cell_type": "code",
   "execution_count": null,
   "id": "3e4a8d90",
   "metadata": {},
   "outputs": [],
   "source": [
    "# OMDb API \n",
    "api_key = '6cf40218'\n",
    "title_id = 'tt3896198'\n",
    "http://www.omdbapi.com/?i=title_id&apikey=api_key"
   ]
  },
  {
   "cell_type": "code",
   "execution_count": 81,
   "id": "777d18ca",
   "metadata": {},
   "outputs": [],
   "source": [
    "from selenium import webdriver\n",
    "from selenium.webdriver.common.by import By\n",
    "from selenium.webdriver.common.keys import Keys\n",
    "\n",
    "# Create a WebDriver instance (e.g., for Firefox)\n",
    "driver = webdriver.Firefox()\n",
    "\n",
    "driver.get(url+year)\n",
    "\n",
    "table = driver.find_element(By.XPATH, \"//table\")  # Adjust the XPath as needed to locate your table\n",
    "\n",
    "driver.quit()"
   ]
  },
  {
   "cell_type": "code",
   "execution_count": 181,
   "id": "a74e2b1c",
   "metadata": {},
   "outputs": [],
   "source": [
    "response = requests.get(url+year)\n",
    "soup = BeautifulSoup(response.text, 'html.parser')"
   ]
  },
  {
   "cell_type": "code",
   "execution_count": 188,
   "id": "55195764",
   "metadata": {},
   "outputs": [
    {
     "data": {
      "text/plain": [
       "400"
      ]
     },
     "execution_count": 188,
     "metadata": {},
     "output_type": "execute_result"
    }
   ],
   "source": [
    "len(grosses)"
   ]
  },
  {
   "cell_type": "code",
   "execution_count": 191,
   "id": "68ea146c",
   "metadata": {},
   "outputs": [
    {
     "data": {
      "text/html": [
       "<div>\n",
       "<style scoped>\n",
       "    .dataframe tbody tr th:only-of-type {\n",
       "        vertical-align: middle;\n",
       "    }\n",
       "\n",
       "    .dataframe tbody tr th {\n",
       "        vertical-align: top;\n",
       "    }\n",
       "\n",
       "    .dataframe thead th {\n",
       "        text-align: right;\n",
       "    }\n",
       "</style>\n",
       "<table border=\"1\" class=\"dataframe\">\n",
       "  <thead>\n",
       "    <tr style=\"text-align: right;\">\n",
       "      <th></th>\n",
       "      <th>name</th>\n",
       "      <th>dom_gross</th>\n",
       "      <th>mojo_id</th>\n",
       "    </tr>\n",
       "  </thead>\n",
       "  <tbody>\n",
       "    <tr>\n",
       "      <th>0</th>\n",
       "      <td>Top Gun: Maverick</td>\n",
       "      <td>718732821</td>\n",
       "      <td>rl2500036097</td>\n",
       "    </tr>\n",
       "    <tr>\n",
       "      <th>1</th>\n",
       "      <td>Black Panther: Wakanda Forever</td>\n",
       "      <td>453829060</td>\n",
       "      <td>rl3573908993</td>\n",
       "    </tr>\n",
       "    <tr>\n",
       "      <th>2</th>\n",
       "      <td>Doctor Strange in the Multiverse of Madness</td>\n",
       "      <td>411331607</td>\n",
       "      <td>rl3724903937</td>\n",
       "    </tr>\n",
       "    <tr>\n",
       "      <th>3</th>\n",
       "      <td>Avatar: The Way of Water</td>\n",
       "      <td>684075767</td>\n",
       "      <td>rl3372254721</td>\n",
       "    </tr>\n",
       "    <tr>\n",
       "      <th>4</th>\n",
       "      <td>Jurassic World Dominion</td>\n",
       "      <td>376851080</td>\n",
       "      <td>rl4043671041</td>\n",
       "    </tr>\n",
       "  </tbody>\n",
       "</table>\n",
       "</div>"
      ],
      "text/plain": [
       "                                          name  dom_gross       mojo_id\n",
       "0                            Top Gun: Maverick  718732821  rl2500036097\n",
       "1               Black Panther: Wakanda Forever  453829060  rl3573908993\n",
       "2  Doctor Strange in the Multiverse of Madness  411331607  rl3724903937\n",
       "3                     Avatar: The Way of Water  684075767  rl3372254721\n",
       "4                      Jurassic World Dominion  376851080  rl4043671041"
      ]
     },
     "execution_count": 191,
     "metadata": {},
     "output_type": "execute_result"
    }
   ],
   "source": [
    "# extracting the box office mojo IDs from each page\n",
    "titles = soup.find_all('td', class_='a-text-left mojo-field-type-release mojo-cell-wide')\n",
    "grosses = soup.find_all('td', class_='a-text-right mojo-field-type-money mojo-estimatable')\n",
    "\n",
    "names = []\n",
    "mojo_ids = []\n",
    "dom_grosses = []\n",
    "\n",
    "for title in titles:\n",
    "    names.append(title.text)\n",
    "    mojo_ids.append(title.find('a').get('href').split('/')[2])\n",
    "\n",
    "for i in range(len(grosses)):\n",
    "    if i % 2 == 0: # we want every other row \n",
    "        continue\n",
    "    else:\n",
    "        dom_grosses.append(int(grosses[i].text.replace('$','').replace(',','')))\n",
    "    \n",
    "df = pd.DataFrame({'name':names,'dom_gross':dom_grosses,'mojo_id':mojo_ids})\n",
    "\n",
    "df.head()"
   ]
  },
  {
   "cell_type": "code",
   "execution_count": 59,
   "id": "41064b96",
   "metadata": {},
   "outputs": [],
   "source": [
    "## extract IMDb ID from BoxOfficeMojo Release Pages\n",
    "url = \"https://www.boxofficemojo.com/release/\"\n",
    "bom_id = \"rl2500036097\"\n",
    "\n",
    "response = requests.get(url+bom_id)\n",
    "soup = BeautifulSoup(response.text, 'html.parser')\n",
    "\n",
    "# extract the IMDb Id\n",
    "a = soup.find('div',id='title-summary-refiner').find('a').get('href').split('/')[2]"
   ]
  },
  {
   "cell_type": "code",
   "execution_count": 192,
   "id": "31d4e639",
   "metadata": {},
   "outputs": [],
   "source": [
    "# function to scrape through each year of top 200 box office results\n",
    "def imdb_ids(year):\n",
    "    names = []\n",
    "    years = []\n",
    "    dom_grosses = []\n",
    "    mojo_ids = []\n",
    "    imdb_ids = []\n",
    "    \n",
    "    mojo_url = \"https://www.boxofficemojo.com/year/\"\n",
    "    title_url = \"https://www.boxofficemojo.com/release/\"\n",
    "    \n",
    "#     year = start_year\n",
    "    \n",
    "#     if year <= end_year:\n",
    "#         # box office mojo data\n",
    "#         response = requests.get(mojo_url+str(year))\n",
    "#         soup = BeautifulSoup(response.text, 'html.parser')\n",
    "    \n",
    "#         # extracting the box office mojo IDs from each page\n",
    "#         titles = soup.find_all('td', class_='a-text-left mojo-field-type-release mojo-cell-wide')\n",
    "\n",
    "#         for title in titles:\n",
    "#             names.append(title.text)\n",
    "#             mojo_ids.append(title.find('a').get('href').split('/')[2])\n",
    "#             years.append(str(year))\n",
    "        \n",
    "#         # extract the domestic gross for each title\n",
    "#         grosses = soup.find_all('td', class_='a-text-right mojo-field-type-money mojo-estimatable')\n",
    "\n",
    "#         for gross in grosses:\n",
    "#             dom_grosses.append(int(gross.text.replace('$','').replace(',','')))\n",
    "        \n",
    "#         # extracting imdb IDs\n",
    "#         for i in range(len(mojo_ids)):\n",
    "#             response = requests.get(title_url+mojo_ids[i])\n",
    "#             soup = BeautifulSoup(response.text, 'html.parser')\n",
    "        \n",
    "#             try:\n",
    "#                 imdb_ids.append(soup.find('div',id='title-summary-refiner').find('a').get('href').split('/')[2])\n",
    "#                 print(f\"{year} {(i+1)/len(mojo_ids)*100:.1f}% complete\", end='\\r')\n",
    "#                 time.sleep(1)\n",
    "#             except AttributeError:\n",
    "#                 imdb_ids.append('NA')\n",
    "#                 print(f\"{year} {(i+1)/len(mojo_ids)*100:.1f}% complete\", end='\\r')\n",
    "#                 time.sleep(1)\n",
    "        \n",
    "#         if year < end_year:\n",
    "#             print(f\"{year} complete, moving on to {year +1}\")\n",
    "#             year += 1\n",
    "#         else:\n",
    "#             print(\"All years complete\")\n",
    "#             year += 1\n",
    "    \n",
    "    # box office mojo data\n",
    "    response = requests.get(mojo_url+str(year))\n",
    "    soup = BeautifulSoup(response.text, 'html.parser')\n",
    "    \n",
    "    # extracting the box office mojo IDs from each page\n",
    "    titles = soup.find_all('td', class_='a-text-left mojo-field-type-release mojo-cell-wide')\n",
    "\n",
    "    for title in titles:\n",
    "        names.append(title.text)\n",
    "        mojo_ids.append(title.find('a').get('href').split('/')[2])\n",
    "        years.append(year)\n",
    "        \n",
    "    # extract the domestic gross for each title\n",
    "    grosses = soup.find_all('td', class_='a-text-right mojo-field-type-money mojo-estimatable')\n",
    "\n",
    "    for i in range(len(grosses)):\n",
    "        if i % 2 == 0: # we want every other row \n",
    "            continue\n",
    "        else:\n",
    "            dom_grosses.append(int(grosses[i].text.replace('$','').replace(',','')))\n",
    "        \n",
    "    # extracting imdb IDs\n",
    "    for i in range(len(mojo_ids)):\n",
    "        response = requests.get(title_url+mojo_ids[i])\n",
    "        soup = BeautifulSoup(response.text, 'html.parser')\n",
    "        \n",
    "        try:\n",
    "            imdb_ids.append(soup.find('div',id='title-summary-refiner').find('a').get('href').split('/')[2])\n",
    "            print(f\"{(i+1)/len(mojo_ids)*100:.1f}% complete\", end='\\r')\n",
    "            time.sleep(.5)\n",
    "        except AttributeError:\n",
    "            imdb_ids.append('NA')\n",
    "            print(f\"{(i+1)/len(mojo_ids)*100:.1f}% complete\", end='\\r')\n",
    "            time.sleep(.5)\n",
    "            \n",
    "        \n",
    "    df = pd.DataFrame({'name':names,'year':years,'domestic_gross':dom_grosses,'mojo_id':mojo_ids,'imdb_id':imdb_ids})\n",
    "    \n",
    "    return df    "
   ]
  },
  {
   "cell_type": "code",
   "execution_count": 193,
   "id": "08b46751",
   "metadata": {},
   "outputs": [
    {
     "name": "stdout",
     "output_type": "stream",
     "text": [
      "100.0% complete\r"
     ]
    },
    {
     "data": {
      "text/plain": [
       "212.9302749633789"
      ]
     },
     "execution_count": 193,
     "metadata": {},
     "output_type": "execute_result"
    }
   ],
   "source": [
    "start = time.time()\n",
    "\n",
    "test = imdb_ids(2002)\n",
    "\n",
    "stop = time.time()\n",
    "stop-start"
   ]
  },
  {
   "cell_type": "code",
   "execution_count": 197,
   "id": "f88d3fca",
   "metadata": {},
   "outputs": [
    {
     "data": {
      "text/html": [
       "<div>\n",
       "<style scoped>\n",
       "    .dataframe tbody tr th:only-of-type {\n",
       "        vertical-align: middle;\n",
       "    }\n",
       "\n",
       "    .dataframe tbody tr th {\n",
       "        vertical-align: top;\n",
       "    }\n",
       "\n",
       "    .dataframe thead th {\n",
       "        text-align: right;\n",
       "    }\n",
       "</style>\n",
       "<table border=\"1\" class=\"dataframe\">\n",
       "  <thead>\n",
       "    <tr style=\"text-align: right;\">\n",
       "      <th></th>\n",
       "      <th>name</th>\n",
       "      <th>year</th>\n",
       "      <th>domestic_gross</th>\n",
       "      <th>mojo_id</th>\n",
       "      <th>imdb_id</th>\n",
       "    </tr>\n",
       "  </thead>\n",
       "  <tbody>\n",
       "    <tr>\n",
       "      <th>169</th>\n",
       "      <td>Spider-Man/Men in Black IIDouble Bill</td>\n",
       "      <td>2002</td>\n",
       "      <td>6632970</td>\n",
       "      <td>rl695436801</td>\n",
       "      <td>NA</td>\n",
       "    </tr>\n",
       "  </tbody>\n",
       "</table>\n",
       "</div>"
      ],
      "text/plain": [
       "                                      name  year  domestic_gross      mojo_id  \\\n",
       "169  Spider-Man/Men in Black IIDouble Bill  2002         6632970  rl695436801   \n",
       "\n",
       "    imdb_id  \n",
       "169      NA  "
      ]
     },
     "execution_count": 197,
     "metadata": {},
     "output_type": "execute_result"
    }
   ],
   "source": [
    "test.query(\"imdb_id == 'NA'\")"
   ]
  },
  {
   "cell_type": "code",
   "execution_count": 142,
   "id": "0e9c8862",
   "metadata": {},
   "outputs": [
    {
     "name": "stdout",
     "output_type": "stream",
     "text": [
      "100.0% complete\r"
     ]
    }
   ],
   "source": [
    "# df = imdb_ids('2022')"
   ]
  },
  {
   "cell_type": "code",
   "execution_count": 203,
   "id": "c40a504b",
   "metadata": {},
   "outputs": [],
   "source": [
    "def get_data(start_year, end_year):\n",
    "    '''\n",
    "    iterate through years in a range and return a master dataframe\n",
    "    '''\n",
    "    # list of years\n",
    "    years = [year for year in range(start_year, end_year + 1)]\n",
    "    \n",
    "    # master dataframe\n",
    "    df = pd.DataFrame({\n",
    "    'name':[],\n",
    "    'year':[],\n",
    "    'domestic_gross':[],\n",
    "    'mojo_id':[],\n",
    "    'imdb_id':[]\n",
    "    })\n",
    "    \n",
    "    for year in years:\n",
    "        data = imdb_ids(year)\n",
    "        df = pd.concat([df, data], ignore_index=True)\n",
    "        print(f\"{year} complete\", end='\\r')\n",
    "        \n",
    "    return df"
   ]
  },
  {
   "cell_type": "code",
   "execution_count": 204,
   "id": "2b7a5c56",
   "metadata": {},
   "outputs": [
    {
     "name": "stdout",
     "output_type": "stream",
     "text": [
      "2022 completete\r"
     ]
    }
   ],
   "source": [
    "master_data = get_data(2002, 2022)"
   ]
  },
  {
   "cell_type": "code",
   "execution_count": 207,
   "id": "4b6e141e",
   "metadata": {},
   "outputs": [],
   "source": [
    "master_data.to_csv('imdb_ids.csv', index=False)"
   ]
  },
  {
   "cell_type": "code",
   "execution_count": 138,
   "id": "5e5f6033",
   "metadata": {},
   "outputs": [
    {
     "name": "stdout",
     "output_type": "stream",
     "text": [
      "100% complete\r"
     ]
    }
   ],
   "source": [
    "sample_list = list(range(10))\n",
    "for i in range(len(sample_list)):\n",
    "    print(f\"{(i+1)/len(sample_list)*100:.0f}% complete\", end='\\r')\n",
    "    time.sleep(1)"
   ]
  }
 ],
 "metadata": {
  "kernelspec": {
   "display_name": "Python 3 (ipykernel)",
   "language": "python",
   "name": "python3"
  },
  "language_info": {
   "codemirror_mode": {
    "name": "ipython",
    "version": 3
   },
   "file_extension": ".py",
   "mimetype": "text/x-python",
   "name": "python",
   "nbconvert_exporter": "python",
   "pygments_lexer": "ipython3",
   "version": "3.9.12"
  }
 },
 "nbformat": 4,
 "nbformat_minor": 5
}
