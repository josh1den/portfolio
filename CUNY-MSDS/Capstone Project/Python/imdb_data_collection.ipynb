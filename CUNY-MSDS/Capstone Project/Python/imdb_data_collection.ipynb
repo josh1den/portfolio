{
 "cells": [
  {
   "cell_type": "code",
   "execution_count": 70,
   "id": "4f941d75",
   "metadata": {},
   "outputs": [],
   "source": [
    "import pandas as pd\n",
    "import requests\n",
    "from bs4 import BeautifulSoup\n",
    "import json\n",
    "import time"
   ]
  },
  {
   "cell_type": "code",
   "execution_count": 2,
   "id": "3ded5014",
   "metadata": {},
   "outputs": [
    {
     "data": {
      "text/html": [
       "<div>\n",
       "<style scoped>\n",
       "    .dataframe tbody tr th:only-of-type {\n",
       "        vertical-align: middle;\n",
       "    }\n",
       "\n",
       "    .dataframe tbody tr th {\n",
       "        vertical-align: top;\n",
       "    }\n",
       "\n",
       "    .dataframe thead th {\n",
       "        text-align: right;\n",
       "    }\n",
       "</style>\n",
       "<table border=\"1\" class=\"dataframe\">\n",
       "  <thead>\n",
       "    <tr style=\"text-align: right;\">\n",
       "      <th></th>\n",
       "      <th>name</th>\n",
       "      <th>year</th>\n",
       "      <th>domestic_gross</th>\n",
       "      <th>mojo_id</th>\n",
       "      <th>imdb_id</th>\n",
       "    </tr>\n",
       "  </thead>\n",
       "  <tbody>\n",
       "    <tr>\n",
       "      <th>0</th>\n",
       "      <td>Spider-Man</td>\n",
       "      <td>2002.0</td>\n",
       "      <td>403706375.0</td>\n",
       "      <td>rl678659585</td>\n",
       "      <td>tt0145487</td>\n",
       "    </tr>\n",
       "    <tr>\n",
       "      <th>1</th>\n",
       "      <td>Star Wars: Episode II - Attack of the Clones</td>\n",
       "      <td>2002.0</td>\n",
       "      <td>302191252.0</td>\n",
       "      <td>rl2809366017</td>\n",
       "      <td>tt0121765</td>\n",
       "    </tr>\n",
       "    <tr>\n",
       "      <th>2</th>\n",
       "      <td>Harry Potter and the Chamber of Secrets</td>\n",
       "      <td>2002.0</td>\n",
       "      <td>261988482.0</td>\n",
       "      <td>rl1433110017</td>\n",
       "      <td>tt0295297</td>\n",
       "    </tr>\n",
       "    <tr>\n",
       "      <th>3</th>\n",
       "      <td>Signs</td>\n",
       "      <td>2002.0</td>\n",
       "      <td>227966634.0</td>\n",
       "      <td>rl1685161473</td>\n",
       "      <td>tt0286106</td>\n",
       "    </tr>\n",
       "    <tr>\n",
       "      <th>4</th>\n",
       "      <td>My Big Fat Greek Wedding</td>\n",
       "      <td>2002.0</td>\n",
       "      <td>241438208.0</td>\n",
       "      <td>rl342132225</td>\n",
       "      <td>tt0259446</td>\n",
       "    </tr>\n",
       "  </tbody>\n",
       "</table>\n",
       "</div>"
      ],
      "text/plain": [
       "                                           name    year  domestic_gross  \\\n",
       "0                                    Spider-Man  2002.0     403706375.0   \n",
       "1  Star Wars: Episode II - Attack of the Clones  2002.0     302191252.0   \n",
       "2       Harry Potter and the Chamber of Secrets  2002.0     261988482.0   \n",
       "3                                         Signs  2002.0     227966634.0   \n",
       "4                      My Big Fat Greek Wedding  2002.0     241438208.0   \n",
       "\n",
       "        mojo_id    imdb_id  \n",
       "0   rl678659585  tt0145487  \n",
       "1  rl2809366017  tt0121765  \n",
       "2  rl1433110017  tt0295297  \n",
       "3  rl1685161473  tt0286106  \n",
       "4   rl342132225  tt0259446  "
      ]
     },
     "execution_count": 2,
     "metadata": {},
     "output_type": "execute_result"
    }
   ],
   "source": [
    "df = pd.read_csv('imdb_ids.csv')\n",
    "df.head()"
   ]
  },
  {
   "cell_type": "code",
   "execution_count": 3,
   "id": "058af6f8",
   "metadata": {},
   "outputs": [
    {
     "data": {
      "text/plain": [
       "4194"
      ]
     },
     "execution_count": 3,
     "metadata": {},
     "output_type": "execute_result"
    }
   ],
   "source": [
    "ids = df[-df['imdb_id'].isna()].imdb_id\n",
    "len(ids)"
   ]
  },
  {
   "cell_type": "code",
   "execution_count": 4,
   "id": "ff4b5278",
   "metadata": {},
   "outputs": [
    {
     "data": {
      "text/plain": [
       "0    tt0145487\n",
       "1    tt0121765\n",
       "2    tt0295297\n",
       "3    tt0286106\n",
       "4    tt0259446\n",
       "Name: imdb_id, dtype: object"
      ]
     },
     "execution_count": 4,
     "metadata": {},
     "output_type": "execute_result"
    }
   ],
   "source": [
    "ids[:5]"
   ]
  },
  {
   "cell_type": "code",
   "execution_count": 7,
   "id": "0f60e052",
   "metadata": {},
   "outputs": [],
   "source": [
    "url = \"https://www.imdb.com/title/\"\n",
    "response = requests.get(url+ids[1], headers={'User-Agent': 'Mozilla/5.0'})\n",
    "soup = BeautifulSoup(response.text, 'html.parser')"
   ]
  },
  {
   "cell_type": "code",
   "execution_count": 30,
   "id": "50de9b0d",
   "metadata": {},
   "outputs": [
    {
     "data": {
      "text/plain": [
       "'$115,000,000 (estimated)'"
      ]
     },
     "execution_count": 30,
     "metadata": {},
     "output_type": "execute_result"
    }
   ],
   "source": [
    "# extracting budget\n",
    "budget = soup.find_all('div', class_='sc-f65f65be-0 fVkLRr')[3].find(class_=\"ipc-metadata-list-item__list-content-item\")\n",
    "budget.text"
   ]
  },
  {
   "cell_type": "code",
   "execution_count": 99,
   "id": "c1ba88b1",
   "metadata": {},
   "outputs": [
    {
     "data": {
      "text/plain": [
       "{'George Lucas': 'nm0000184',\n",
       " 'Jonathan Hales': 'nm0355054',\n",
       " 'Hayden Christensen': 'nm0159789',\n",
       " 'Natalie Portman': 'nm0000204',\n",
       " 'Ewan McGregor': 'nm0000191'}"
      ]
     },
     "execution_count": 99,
     "metadata": {},
     "output_type": "execute_result"
    }
   ],
   "source": [
    "# extracting director and actor IDs\n",
    "header = soup.find('div', class_='sc-dffc6c81-3 jFHENY').find_all('li', class_=\"ipc-inline-list__item\")\n",
    "\n",
    "# initialize empty list\n",
    "data = {}\n",
    "\n",
    "# create a dictionary of ids within the list\n",
    "for item in header:\n",
    "    data[item.text] = item.find('a').get('href').split('/')[2]\n",
    "    \n",
    "data"
   ]
  },
  {
   "cell_type": "code",
   "execution_count": 66,
   "id": "617a7fa6",
   "metadata": {},
   "outputs": [],
   "source": [
    "# extract data from ombd using API\n",
    "api_key = '&apikey=6cf40218'\n",
    "url = 'http://www.omdbapi.com/?i='"
   ]
  },
  {
   "cell_type": "code",
   "execution_count": 188,
   "id": "1db03486",
   "metadata": {},
   "outputs": [],
   "source": [
    "response = requests.get(url+ids[0]+api_key)"
   ]
  },
  {
   "cell_type": "code",
   "execution_count": 189,
   "id": "1615bad0",
   "metadata": {},
   "outputs": [
    {
     "data": {
      "text/plain": [
       "{'Title': 'Spider-Man',\n",
       " 'Year': '2002',\n",
       " 'Rated': 'PG-13',\n",
       " 'Released': '03 May 2002',\n",
       " 'Runtime': '121 min',\n",
       " 'Genre': 'Action, Adventure, Sci-Fi',\n",
       " 'Director': 'Sam Raimi',\n",
       " 'Writer': 'Stan Lee, Steve Ditko, David Koepp',\n",
       " 'Actors': 'Tobey Maguire, Kirsten Dunst, Willem Dafoe',\n",
       " 'Plot': 'After being bitten by a genetically-modified spider, a shy teenager gains spider-like abilities that he uses to fight injustice as a masked superhero and face a vengeful enemy.',\n",
       " 'Language': 'English',\n",
       " 'Country': 'United States',\n",
       " 'Awards': 'Nominated for 2 Oscars. 17 wins & 63 nominations total',\n",
       " 'Poster': 'https://m.media-amazon.com/images/M/MV5BZDEyN2NhMjgtMjdhNi00MmNlLWE5YTgtZGE4MzNjMTRlMGEwXkEyXkFqcGdeQXVyNDUyOTg3Njg@._V1_SX300.jpg',\n",
       " 'Ratings': [{'Source': 'Internet Movie Database', 'Value': '7.4/10'},\n",
       "  {'Source': 'Rotten Tomatoes', 'Value': '90%'},\n",
       "  {'Source': 'Metacritic', 'Value': '73/100'}],\n",
       " 'Metascore': '73',\n",
       " 'imdbRating': '7.4',\n",
       " 'imdbVotes': '852,452',\n",
       " 'imdbID': 'tt0145487',\n",
       " 'Type': 'movie',\n",
       " 'DVD': '25 Apr 2013',\n",
       " 'BoxOffice': '$407,022,860',\n",
       " 'Production': 'N/A',\n",
       " 'Website': 'N/A',\n",
       " 'Response': 'True'}"
      ]
     },
     "execution_count": 189,
     "metadata": {},
     "output_type": "execute_result"
    }
   ],
   "source": [
    "response.json()"
   ]
  },
  {
   "cell_type": "code",
   "execution_count": 192,
   "id": "d41d9151",
   "metadata": {},
   "outputs": [
    {
     "data": {
      "text/html": [
       "<div>\n",
       "<style scoped>\n",
       "    .dataframe tbody tr th:only-of-type {\n",
       "        vertical-align: middle;\n",
       "    }\n",
       "\n",
       "    .dataframe tbody tr th {\n",
       "        vertical-align: top;\n",
       "    }\n",
       "\n",
       "    .dataframe thead th {\n",
       "        text-align: right;\n",
       "    }\n",
       "</style>\n",
       "<table border=\"1\" class=\"dataframe\">\n",
       "  <thead>\n",
       "    <tr style=\"text-align: right;\">\n",
       "      <th></th>\n",
       "      <th>Title</th>\n",
       "      <th>Year</th>\n",
       "      <th>Rated</th>\n",
       "      <th>Released</th>\n",
       "      <th>Runtime</th>\n",
       "      <th>Genre</th>\n",
       "      <th>Director</th>\n",
       "      <th>Writer</th>\n",
       "      <th>Actors</th>\n",
       "      <th>Plot</th>\n",
       "      <th>...</th>\n",
       "      <th>Metascore</th>\n",
       "      <th>imdbRating</th>\n",
       "      <th>imdbVotes</th>\n",
       "      <th>imdbID</th>\n",
       "      <th>Type</th>\n",
       "      <th>DVD</th>\n",
       "      <th>BoxOffice</th>\n",
       "      <th>Production</th>\n",
       "      <th>Website</th>\n",
       "      <th>Response</th>\n",
       "    </tr>\n",
       "  </thead>\n",
       "  <tbody>\n",
       "    <tr>\n",
       "      <th>0</th>\n",
       "      <td>Spider-Man</td>\n",
       "      <td>2002</td>\n",
       "      <td>PG-13</td>\n",
       "      <td>03 May 2002</td>\n",
       "      <td>121 min</td>\n",
       "      <td>Action, Adventure, Sci-Fi</td>\n",
       "      <td>Sam Raimi</td>\n",
       "      <td>Stan Lee, Steve Ditko, David Koepp</td>\n",
       "      <td>Tobey Maguire, Kirsten Dunst, Willem Dafoe</td>\n",
       "      <td>After being bitten by a genetically-modified s...</td>\n",
       "      <td>...</td>\n",
       "      <td>73</td>\n",
       "      <td>7.4</td>\n",
       "      <td>852,452</td>\n",
       "      <td>tt0145487</td>\n",
       "      <td>movie</td>\n",
       "      <td>25 Apr 2013</td>\n",
       "      <td>$407,022,860</td>\n",
       "      <td>N/A</td>\n",
       "      <td>N/A</td>\n",
       "      <td>True</td>\n",
       "    </tr>\n",
       "  </tbody>\n",
       "</table>\n",
       "<p>1 rows × 25 columns</p>\n",
       "</div>"
      ],
      "text/plain": [
       "        Title  Year  Rated     Released  Runtime                      Genre  \\\n",
       "0  Spider-Man  2002  PG-13  03 May 2002  121 min  Action, Adventure, Sci-Fi   \n",
       "\n",
       "    Director                              Writer  \\\n",
       "0  Sam Raimi  Stan Lee, Steve Ditko, David Koepp   \n",
       "\n",
       "                                       Actors  \\\n",
       "0  Tobey Maguire, Kirsten Dunst, Willem Dafoe   \n",
       "\n",
       "                                                Plot  ... Metascore  \\\n",
       "0  After being bitten by a genetically-modified s...  ...        73   \n",
       "\n",
       "  imdbRating imdbVotes     imdbID   Type          DVD     BoxOffice  \\\n",
       "0        7.4   852,452  tt0145487  movie  25 Apr 2013  $407,022,860   \n",
       "\n",
       "  Production Website Response  \n",
       "0        N/A     N/A     True  \n",
       "\n",
       "[1 rows x 25 columns]"
      ]
     },
     "execution_count": 192,
     "metadata": {},
     "output_type": "execute_result"
    }
   ],
   "source": [
    "temp = pd.DataFrame.from_dict(response.json()).head(1)\n",
    "temp"
   ]
  },
  {
   "cell_type": "code",
   "execution_count": 191,
   "id": "305b92fc",
   "metadata": {},
   "outputs": [
    {
     "data": {
      "text/plain": [
       "{'George Lucas': 'nm0000184',\n",
       " 'Jonathan Hales': 'nm0355054',\n",
       " 'Hayden Christensen': 'nm0159789',\n",
       " 'Natalie Portman': 'nm0000204',\n",
       " 'Ewan McGregor': 'nm0000191'}"
      ]
     },
     "execution_count": 191,
     "metadata": {},
     "output_type": "execute_result"
    }
   ],
   "source": [
    "data"
   ]
  },
  {
   "cell_type": "code",
   "execution_count": 134,
   "id": "4756f623",
   "metadata": {},
   "outputs": [
    {
     "name": "stdout",
     "output_type": "stream",
     "text": [
      "Hayden Christensen nm0159789\n",
      "Natalie Portman nm0000204\n",
      "Ewan McGregor nm0000191\n"
     ]
    }
   ],
   "source": [
    "for actors in temp['Actors'].str.split(','):\n",
    "    for actor in actors:\n",
    "        actor = actor.strip()\n",
    "        print(actor, data[actor])"
   ]
  },
  {
   "cell_type": "code",
   "execution_count": 168,
   "id": "89c190ac",
   "metadata": {},
   "outputs": [],
   "source": [
    "# create ActorID column\n",
    "if ',' not in temp['Actors'][0]:\n",
    "    temp['ActorID'] = temp['Actors'].map(data)\n",
    "else:\n",
    "    temp['ActorID'] = [[data[actor.strip()] for actor in actors] for actors in temp['Actors'].str.split(',')]"
   ]
  },
  {
   "cell_type": "code",
   "execution_count": 169,
   "id": "59d9bc23",
   "metadata": {},
   "outputs": [
    {
     "data": {
      "text/html": [
       "<div>\n",
       "<style scoped>\n",
       "    .dataframe tbody tr th:only-of-type {\n",
       "        vertical-align: middle;\n",
       "    }\n",
       "\n",
       "    .dataframe tbody tr th {\n",
       "        vertical-align: top;\n",
       "    }\n",
       "\n",
       "    .dataframe thead th {\n",
       "        text-align: right;\n",
       "    }\n",
       "</style>\n",
       "<table border=\"1\" class=\"dataframe\">\n",
       "  <thead>\n",
       "    <tr style=\"text-align: right;\">\n",
       "      <th></th>\n",
       "      <th>Title</th>\n",
       "      <th>Year</th>\n",
       "      <th>Rated</th>\n",
       "      <th>Released</th>\n",
       "      <th>Runtime</th>\n",
       "      <th>Genre</th>\n",
       "      <th>Director</th>\n",
       "      <th>Writer</th>\n",
       "      <th>Actors</th>\n",
       "      <th>Plot</th>\n",
       "      <th>...</th>\n",
       "      <th>imdbVotes</th>\n",
       "      <th>imdbID</th>\n",
       "      <th>Type</th>\n",
       "      <th>DVD</th>\n",
       "      <th>BoxOffice</th>\n",
       "      <th>Production</th>\n",
       "      <th>Website</th>\n",
       "      <th>Response</th>\n",
       "      <th>DirectorID</th>\n",
       "      <th>ActorID</th>\n",
       "    </tr>\n",
       "  </thead>\n",
       "  <tbody>\n",
       "    <tr>\n",
       "      <th>0</th>\n",
       "      <td>Star Wars: Episode II - Attack of the Clones</td>\n",
       "      <td>2002</td>\n",
       "      <td>PG</td>\n",
       "      <td>16 May 2002</td>\n",
       "      <td>142 min</td>\n",
       "      <td>Action, Adventure, Fantasy</td>\n",
       "      <td>George Lucas</td>\n",
       "      <td>George Lucas, Jonathan Hales</td>\n",
       "      <td>Hayden Christensen, Natalie Portman, Ewan McGr...</td>\n",
       "      <td>Ten years after initially meeting, Anakin Skyw...</td>\n",
       "      <td>...</td>\n",
       "      <td>738,330</td>\n",
       "      <td>tt0121765</td>\n",
       "      <td>movie</td>\n",
       "      <td>10 Apr 2015</td>\n",
       "      <td>$310,676,740</td>\n",
       "      <td>N/A</td>\n",
       "      <td>N/A</td>\n",
       "      <td>True</td>\n",
       "      <td>nm0000184</td>\n",
       "      <td>[nm0159789, nm0000204, nm0000191]</td>\n",
       "    </tr>\n",
       "  </tbody>\n",
       "</table>\n",
       "<p>1 rows × 27 columns</p>\n",
       "</div>"
      ],
      "text/plain": [
       "                                          Title  Year Rated     Released  \\\n",
       "0  Star Wars: Episode II - Attack of the Clones  2002    PG  16 May 2002   \n",
       "\n",
       "   Runtime                       Genre      Director  \\\n",
       "0  142 min  Action, Adventure, Fantasy  George Lucas   \n",
       "\n",
       "                         Writer  \\\n",
       "0  George Lucas, Jonathan Hales   \n",
       "\n",
       "                                              Actors  \\\n",
       "0  Hayden Christensen, Natalie Portman, Ewan McGr...   \n",
       "\n",
       "                                                Plot  ... imdbVotes  \\\n",
       "0  Ten years after initially meeting, Anakin Skyw...  ...   738,330   \n",
       "\n",
       "      imdbID   Type          DVD     BoxOffice Production Website Response  \\\n",
       "0  tt0121765  movie  10 Apr 2015  $310,676,740        N/A     N/A     True   \n",
       "\n",
       "  DirectorID                            ActorID  \n",
       "0  nm0000184  [nm0159789, nm0000204, nm0000191]  \n",
       "\n",
       "[1 rows x 27 columns]"
      ]
     },
     "execution_count": 169,
     "metadata": {},
     "output_type": "execute_result"
    }
   ],
   "source": [
    "if ',' not in temp['Director'][0]:\n",
    "    temp['DirectorID'] = temp['Director'].map(data)\n",
    "else:\n",
    "    temp['DirectorID'] = [[data[director.strip()] for director in directors] for directors in temp['Director'].str.split(',')]\n",
    "temp"
   ]
  },
  {
   "cell_type": "code",
   "execution_count": 179,
   "id": "589131a6",
   "metadata": {},
   "outputs": [
    {
     "data": {
      "text/plain": [
       "Index(['Title', 'Year', 'Rated', 'Released', 'Runtime', 'Genre', 'Director',\n",
       "       'Writer', 'Actors', 'Plot', 'Language', 'Country', 'Awards', 'Poster',\n",
       "       'Ratings', 'Metascore', 'imdbRating', 'imdbVotes', 'imdbID', 'Type',\n",
       "       'DVD', 'BoxOffice', 'Production', 'Website', 'Response', 'DirectorID',\n",
       "       'ActorID'],\n",
       "      dtype='object')"
      ]
     },
     "execution_count": 179,
     "metadata": {},
     "output_type": "execute_result"
    }
   ],
   "source": [
    "temp.columns"
   ]
  },
  {
   "cell_type": "code",
   "execution_count": 463,
   "id": "15b67b7e",
   "metadata": {},
   "outputs": [],
   "source": [
    "def get_imdb_data(id):\n",
    "    '''\n",
    "    gets the data from imdbd\n",
    "    '''\n",
    "    url = \"https://www.imdb.com/title/\"\n",
    "    response = requests.get(url+id, headers={'User-Agent': 'Mozilla/5.0'})\n",
    "    soup = BeautifulSoup(response.text, 'html.parser')\n",
    "    \n",
    "    # extracting budget\n",
    "    box_office = soup.find_all('div', class_='sc-f65f65be-0 fVkLRr')\n",
    "\n",
    "    for i in range(1,len(box_office)):\n",
    "        text = box_office[i].find(class_=\"ipc-metadata-list-item__list-content-item\")\n",
    "        if text is None:\n",
    "            continue\n",
    "        else:\n",
    "            text = text.text\n",
    "            if '$' in text or '£' in text:\n",
    "                budget = text.split(' ')[0]\n",
    "                break\n",
    "            else: \n",
    "                budget = 'NA'\n",
    "            \n",
    "    # extracting header IDS\n",
    "    header = soup.find('div', class_='sc-dffc6c81-3 jFHENY').find_all('li', class_=\"ipc-inline-list__item\")\n",
    "\n",
    "    # initialize empty list\n",
    "    data = {}\n",
    "\n",
    "    # create a dictionary of ids within the list\n",
    "    for item in header:\n",
    "        data[item.text.title()] = item.find('a').get('href').split('/')[2]\n",
    "        \n",
    "    return budget, data\n",
    "\n",
    "def get_omdb_data(id, data):\n",
    "    '''\n",
    "    gets the data from omdb\n",
    "    '''\n",
    "    # extract data from ombd using API\n",
    "    api_key = '&apikey=6cf40218'\n",
    "    url = 'http://www.omdbapi.com/?i='\n",
    "    response = requests.get(url+id+api_key)\n",
    "    \n",
    "    # create a temporary dataframe - only want the first rwo\n",
    "    temp = pd.DataFrame.from_dict(response.json()).head(1)\n",
    "    \n",
    "    # create ActorID column\n",
    "    if ',' not in temp['Actors'][0]:\n",
    "        temp['ActorID'] = temp['Actors'].map(data)\n",
    "    else:\n",
    "        temp['ActorID'] = [[data[actor.strip().title()] for actor in actors] for actors in temp['Actors'].str.split(',')]\n",
    "    \n",
    "    # create DirectorID column\n",
    "    if ',' not in temp['Director'][0]:\n",
    "        temp['DirectorID'] = temp['Director'].map(data)\n",
    "    else:\n",
    "        temp['DirectorID'] = [[data[director.strip().title()] for director in directors] for directors in temp['Director'].str.split(',')]\n",
    "\n",
    "    return temp\n",
    "    \n",
    "\n",
    "def movie_data(ids):\n",
    "    '''\n",
    "    takes a list of imdb movie IDs, collects data from IMDb and OMDb, and returns a dataframe\n",
    "    '''\n",
    "    \n",
    "    # initialize dataframe\n",
    "    cols = ['Title', 'Year', 'Rated', 'Released', 'Runtime', 'Genre', 'Director',\n",
    "       'Writer', 'Actors', 'Plot', 'Language', 'Country', 'Awards', 'Poster',\n",
    "       'Ratings', 'Metascore', 'imdbRating', 'imdbVotes', 'imdbID', 'Type',\n",
    "       'DVD', 'BoxOffice', 'Production', 'Website', 'Response', 'DirectorID',\n",
    "       'ActorID','Budget']\n",
    "    df = pd.DataFrame(columns = cols)\n",
    "    \n",
    "    counter = 1\n",
    "    total = len(ids)\n",
    "    \n",
    "    for id in ids:\n",
    "        try:\n",
    "            budget, data = get_imdb_data(id)\n",
    "            temp = get_omdb_data(id, data)\n",
    "            temp['Budget'] = budget\n",
    "            df = pd.concat([df, temp], ignore_index=True)\n",
    "            print(f\"{(counter)/total*100:.2f}% complete\", end='\\r')\n",
    "            counter += 1\n",
    "            time.sleep(0.4)\n",
    "        except Exception as e:\n",
    "            try:\n",
    "                time.sleep(5)\n",
    "                budget, data = get_imdb_data(id)\n",
    "                temp = get_omdb_data(id, data)\n",
    "                temp['Budget'] = budget\n",
    "                df = pd.concat([df, temp], ignore_index=True)\n",
    "                print(f\"{(counter)/total*100:.2f}% complete\", end='\\r')\n",
    "                counter += 1\n",
    "            except Exception:\n",
    "                continue\n",
    "        \n",
    "    return df"
   ]
  },
  {
   "cell_type": "code",
   "execution_count": 464,
   "id": "aedc4fe6",
   "metadata": {},
   "outputs": [
    {
     "name": "stdout",
     "output_type": "stream",
     "text": [
      "98.71% complete\r"
     ]
    }
   ],
   "source": [
    "movies_data = movie_data(ids[3576:])"
   ]
  },
  {
   "cell_type": "code",
   "execution_count": 363,
   "id": "58f10b23",
   "metadata": {},
   "outputs": [],
   "source": [
    "# movies_a = movies_data (1-1190)"
   ]
  },
  {
   "cell_type": "code",
   "execution_count": 422,
   "id": "88b7ee38",
   "metadata": {},
   "outputs": [],
   "source": [
    "# movies_c = movies_data (3192-3575)"
   ]
  },
  {
   "cell_type": "code",
   "execution_count": 392,
   "id": "6d8af9e9",
   "metadata": {},
   "outputs": [],
   "source": [
    "# movies_b = movies_data (1191-3191)"
   ]
  },
  {
   "cell_type": "code",
   "execution_count": 466,
   "id": "2e537adf",
   "metadata": {},
   "outputs": [],
   "source": [
    "# movies_d = movies_data (3576-)"
   ]
  },
  {
   "cell_type": "code",
   "execution_count": 480,
   "id": "004da1f6",
   "metadata": {},
   "outputs": [
    {
     "data": {
      "text/html": [
       "<div>\n",
       "<style scoped>\n",
       "    .dataframe tbody tr th:only-of-type {\n",
       "        vertical-align: middle;\n",
       "    }\n",
       "\n",
       "    .dataframe tbody tr th {\n",
       "        vertical-align: top;\n",
       "    }\n",
       "\n",
       "    .dataframe thead th {\n",
       "        text-align: right;\n",
       "    }\n",
       "</style>\n",
       "<table border=\"1\" class=\"dataframe\">\n",
       "  <thead>\n",
       "    <tr style=\"text-align: right;\">\n",
       "      <th></th>\n",
       "      <th>Title</th>\n",
       "      <th>Year</th>\n",
       "      <th>Rated</th>\n",
       "      <th>Released</th>\n",
       "      <th>Runtime</th>\n",
       "      <th>Genre</th>\n",
       "      <th>Director</th>\n",
       "      <th>Writer</th>\n",
       "      <th>Actors</th>\n",
       "      <th>Plot</th>\n",
       "      <th>...</th>\n",
       "      <th>imdbID</th>\n",
       "      <th>Type</th>\n",
       "      <th>DVD</th>\n",
       "      <th>BoxOffice</th>\n",
       "      <th>Production</th>\n",
       "      <th>Website</th>\n",
       "      <th>Response</th>\n",
       "      <th>DirectorID</th>\n",
       "      <th>ActorID</th>\n",
       "      <th>Budget</th>\n",
       "    </tr>\n",
       "  </thead>\n",
       "  <tbody>\n",
       "    <tr>\n",
       "      <th>0</th>\n",
       "      <td>Spider-Man</td>\n",
       "      <td>2002</td>\n",
       "      <td>PG-13</td>\n",
       "      <td>03 May 2002</td>\n",
       "      <td>121 min</td>\n",
       "      <td>Action, Adventure, Sci-Fi</td>\n",
       "      <td>Sam Raimi</td>\n",
       "      <td>Stan Lee, Steve Ditko, David Koepp</td>\n",
       "      <td>Tobey Maguire, Kirsten Dunst, Willem Dafoe</td>\n",
       "      <td>After being bitten by a genetically-modified s...</td>\n",
       "      <td>...</td>\n",
       "      <td>tt0145487</td>\n",
       "      <td>movie</td>\n",
       "      <td>25 Apr 2013</td>\n",
       "      <td>$407,022,860</td>\n",
       "      <td>N/A</td>\n",
       "      <td>N/A</td>\n",
       "      <td>True</td>\n",
       "      <td>nm0000600</td>\n",
       "      <td>[nm0001497, nm0000379, nm0000353]</td>\n",
       "      <td>$139,000,000</td>\n",
       "    </tr>\n",
       "    <tr>\n",
       "      <th>1</th>\n",
       "      <td>Star Wars: Episode II - Attack of the Clones</td>\n",
       "      <td>2002</td>\n",
       "      <td>PG</td>\n",
       "      <td>16 May 2002</td>\n",
       "      <td>142 min</td>\n",
       "      <td>Action, Adventure, Fantasy</td>\n",
       "      <td>George Lucas</td>\n",
       "      <td>George Lucas, Jonathan Hales</td>\n",
       "      <td>Hayden Christensen, Natalie Portman, Ewan McGr...</td>\n",
       "      <td>Ten years after initially meeting, Anakin Skyw...</td>\n",
       "      <td>...</td>\n",
       "      <td>tt0121765</td>\n",
       "      <td>movie</td>\n",
       "      <td>10 Apr 2015</td>\n",
       "      <td>$310,676,740</td>\n",
       "      <td>N/A</td>\n",
       "      <td>N/A</td>\n",
       "      <td>True</td>\n",
       "      <td>nm0000184</td>\n",
       "      <td>[nm0159789, nm0000204, nm0000191]</td>\n",
       "      <td>$115,000,000</td>\n",
       "    </tr>\n",
       "    <tr>\n",
       "      <th>2</th>\n",
       "      <td>Harry Potter and the Chamber of Secrets</td>\n",
       "      <td>2002</td>\n",
       "      <td>PG</td>\n",
       "      <td>15 Nov 2002</td>\n",
       "      <td>161 min</td>\n",
       "      <td>Adventure, Family, Fantasy</td>\n",
       "      <td>Chris Columbus</td>\n",
       "      <td>J.K. Rowling, Steve Kloves</td>\n",
       "      <td>Daniel Radcliffe, Rupert Grint, Emma Watson</td>\n",
       "      <td>An ancient prophecy seems to be coming true wh...</td>\n",
       "      <td>...</td>\n",
       "      <td>tt0295297</td>\n",
       "      <td>movie</td>\n",
       "      <td>15 Jan 2008</td>\n",
       "      <td>$262,641,637</td>\n",
       "      <td>N/A</td>\n",
       "      <td>N/A</td>\n",
       "      <td>True</td>\n",
       "      <td>nm0001060</td>\n",
       "      <td>[nm0705356, nm0342488, nm0914612]</td>\n",
       "      <td>$100,000,000</td>\n",
       "    </tr>\n",
       "    <tr>\n",
       "      <th>3</th>\n",
       "      <td>Signs</td>\n",
       "      <td>2002</td>\n",
       "      <td>PG-13</td>\n",
       "      <td>02 Aug 2002</td>\n",
       "      <td>106 min</td>\n",
       "      <td>Drama, Mystery, Sci-Fi</td>\n",
       "      <td>M. Night Shyamalan</td>\n",
       "      <td>M. Night Shyamalan</td>\n",
       "      <td>Mel Gibson, Joaquin Phoenix, Rory Culkin</td>\n",
       "      <td>A widowed former reverend living with his chil...</td>\n",
       "      <td>...</td>\n",
       "      <td>tt0286106</td>\n",
       "      <td>movie</td>\n",
       "      <td>11 Aug 2016</td>\n",
       "      <td>$227,966,634</td>\n",
       "      <td>N/A</td>\n",
       "      <td>N/A</td>\n",
       "      <td>True</td>\n",
       "      <td>nm0796117</td>\n",
       "      <td>[nm0000154, nm0001618, nm0191412]</td>\n",
       "      <td>$72,000,000</td>\n",
       "    </tr>\n",
       "    <tr>\n",
       "      <th>4</th>\n",
       "      <td>My Big Fat Greek Wedding</td>\n",
       "      <td>2002</td>\n",
       "      <td>PG</td>\n",
       "      <td>02 Aug 2002</td>\n",
       "      <td>95 min</td>\n",
       "      <td>Comedy, Drama, Romance</td>\n",
       "      <td>Joel Zwick</td>\n",
       "      <td>Nia Vardalos</td>\n",
       "      <td>Nia Vardalos, John Corbett, Michael Constantine</td>\n",
       "      <td>A young Greek woman falls in love with a non-G...</td>\n",
       "      <td>...</td>\n",
       "      <td>tt0259446</td>\n",
       "      <td>movie</td>\n",
       "      <td>10 Aug 2016</td>\n",
       "      <td>$241,438,208</td>\n",
       "      <td>N/A</td>\n",
       "      <td>N/A</td>\n",
       "      <td>True</td>\n",
       "      <td>nm0959034</td>\n",
       "      <td>[nm0889522, nm0179173, nm0176073]</td>\n",
       "      <td>$5,000,000</td>\n",
       "    </tr>\n",
       "  </tbody>\n",
       "</table>\n",
       "<p>5 rows × 28 columns</p>\n",
       "</div>"
      ],
      "text/plain": [
       "                                          Title  Year  Rated     Released  \\\n",
       "0                                    Spider-Man  2002  PG-13  03 May 2002   \n",
       "1  Star Wars: Episode II - Attack of the Clones  2002     PG  16 May 2002   \n",
       "2       Harry Potter and the Chamber of Secrets  2002     PG  15 Nov 2002   \n",
       "3                                         Signs  2002  PG-13  02 Aug 2002   \n",
       "4                      My Big Fat Greek Wedding  2002     PG  02 Aug 2002   \n",
       "\n",
       "   Runtime                       Genre            Director  \\\n",
       "0  121 min   Action, Adventure, Sci-Fi           Sam Raimi   \n",
       "1  142 min  Action, Adventure, Fantasy        George Lucas   \n",
       "2  161 min  Adventure, Family, Fantasy      Chris Columbus   \n",
       "3  106 min      Drama, Mystery, Sci-Fi  M. Night Shyamalan   \n",
       "4   95 min      Comedy, Drama, Romance          Joel Zwick   \n",
       "\n",
       "                               Writer  \\\n",
       "0  Stan Lee, Steve Ditko, David Koepp   \n",
       "1        George Lucas, Jonathan Hales   \n",
       "2          J.K. Rowling, Steve Kloves   \n",
       "3                  M. Night Shyamalan   \n",
       "4                        Nia Vardalos   \n",
       "\n",
       "                                              Actors  \\\n",
       "0         Tobey Maguire, Kirsten Dunst, Willem Dafoe   \n",
       "1  Hayden Christensen, Natalie Portman, Ewan McGr...   \n",
       "2        Daniel Radcliffe, Rupert Grint, Emma Watson   \n",
       "3           Mel Gibson, Joaquin Phoenix, Rory Culkin   \n",
       "4    Nia Vardalos, John Corbett, Michael Constantine   \n",
       "\n",
       "                                                Plot  ...     imdbID   Type  \\\n",
       "0  After being bitten by a genetically-modified s...  ...  tt0145487  movie   \n",
       "1  Ten years after initially meeting, Anakin Skyw...  ...  tt0121765  movie   \n",
       "2  An ancient prophecy seems to be coming true wh...  ...  tt0295297  movie   \n",
       "3  A widowed former reverend living with his chil...  ...  tt0286106  movie   \n",
       "4  A young Greek woman falls in love with a non-G...  ...  tt0259446  movie   \n",
       "\n",
       "           DVD     BoxOffice Production Website Response DirectorID  \\\n",
       "0  25 Apr 2013  $407,022,860        N/A     N/A     True  nm0000600   \n",
       "1  10 Apr 2015  $310,676,740        N/A     N/A     True  nm0000184   \n",
       "2  15 Jan 2008  $262,641,637        N/A     N/A     True  nm0001060   \n",
       "3  11 Aug 2016  $227,966,634        N/A     N/A     True  nm0796117   \n",
       "4  10 Aug 2016  $241,438,208        N/A     N/A     True  nm0959034   \n",
       "\n",
       "                             ActorID        Budget  \n",
       "0  [nm0001497, nm0000379, nm0000353]  $139,000,000  \n",
       "1  [nm0159789, nm0000204, nm0000191]  $115,000,000  \n",
       "2  [nm0705356, nm0342488, nm0914612]  $100,000,000  \n",
       "3  [nm0000154, nm0001618, nm0191412]   $72,000,000  \n",
       "4  [nm0889522, nm0179173, nm0176073]    $5,000,000  \n",
       "\n",
       "[5 rows x 28 columns]"
      ]
     },
     "execution_count": 480,
     "metadata": {},
     "output_type": "execute_result"
    }
   ],
   "source": [
    "movies = pd.concat([movies_a, movies_b, movies_c, movies_d], ignore_index=True)\n",
    "movies.head()"
   ]
  },
  {
   "cell_type": "code",
   "execution_count": 482,
   "id": "774ae9fb",
   "metadata": {},
   "outputs": [],
   "source": [
    "movies.to_csv('movies.csv', index=False)"
   ]
  },
  {
   "cell_type": "code",
   "execution_count": 356,
   "id": "e234d36b",
   "metadata": {},
   "outputs": [],
   "source": [
    "url = \"https://www.imdb.com/title/\"\n",
    "response = requests.get(url+ids[121], headers={'User-Agent': 'Mozilla/5.0'})\n",
    "honey = BeautifulSoup(response.text, 'html.parser')\n",
    "    \n",
    "# extracting budget\n",
    "# box_office = honey.find_all('div', class_='sc-f65f65be-0 fVkLRr')\n",
    "\n",
    "#     for i in range(1,len(box_office)):\n",
    "#         text = box_office[i].find(class_=\"ipc-metadata-list-item__list-content-item\")\n",
    "#         if text is None:\n",
    "#             continue\n",
    "#         else:\n",
    "#             text = text.text\n",
    "#             if '$' in text:\n",
    "#                 budget = text.split(' ')[0]\n",
    "#                 break\n",
    "#             else: \n",
    "#                 budget = 'NA'\n",
    "            \n",
    "# extracting header IDS\n",
    "# header = honey.find('div', class_='sc-dffc6c81-3 jFHENY').find_all('li', class_=\"ipc-inline-list__item\")\n",
    "\n",
    "# # initialize empty list\n",
    "# data = {}\n",
    "\n",
    "# # create a dictionary of ids within the list\n",
    "# for item in header:\n",
    "#     data[item.text] = item.find('a').get('href').split('/')[2]"
   ]
  },
  {
   "cell_type": "code",
   "execution_count": 333,
   "id": "f9d96fbf",
   "metadata": {},
   "outputs": [],
   "source": [
    "# extract data from ombd using API\n",
    "api_key = '&apikey=6cf40218'\n",
    "url = 'http://www.omdbapi.com/?i='\n",
    "response = requests.get(url+ids[201]+api_key)\n",
    "    \n",
    "# # create a temporary dataframe - only want the first rwo\n",
    "# temp = pd.DataFrame.from_dict(response.json()).head(1)\n",
    "\n",
    "# # for actors in temp['Actors'].str.split(','):\n",
    "# #     for actor in actors:\n",
    "# #         actor = actor.strip().title()\n",
    "# #         print(data[actor])\n",
    "    \n",
    "# # create ActorID column\n",
    "# if ',' not in temp['Actors'][0]:\n",
    "#     temp['ActorID'] = temp['Actors'].map(data)\n",
    "# else:\n",
    "#     temp['ActorID'] = [[data[actor.strip().title()] for actor in actors] for actors in temp['Actors'].str.split(',')]\n",
    "    \n",
    "# # create DirectorID column\n",
    "# if ',' not in temp['Director'][0]:\n",
    "#     temp['DirectorID'] = temp['Director'].map(data)\n",
    "# else:\n",
    "#     temp['DirectorID'] = [[data[director.strip().title()] for director in directors] for directors in temp['Director'].str.split(',')]\n"
   ]
  },
  {
   "cell_type": "code",
   "execution_count": 334,
   "id": "7438bd29",
   "metadata": {},
   "outputs": [
    {
     "data": {
      "text/plain": [
       "'{\"Response\":\"False\",\"Error\":\"Request limit reached!\"}'"
      ]
     },
     "execution_count": 334,
     "metadata": {},
     "output_type": "execute_result"
    }
   ],
   "source": [
    "response.text"
   ]
  },
  {
   "cell_type": "code",
   "execution_count": 324,
   "id": "fc53ea03",
   "metadata": {},
   "outputs": [
    {
     "data": {
      "text/html": [
       "<div>\n",
       "<style scoped>\n",
       "    .dataframe tbody tr th:only-of-type {\n",
       "        vertical-align: middle;\n",
       "    }\n",
       "\n",
       "    .dataframe tbody tr th {\n",
       "        vertical-align: top;\n",
       "    }\n",
       "\n",
       "    .dataframe thead th {\n",
       "        text-align: right;\n",
       "    }\n",
       "</style>\n",
       "<table border=\"1\" class=\"dataframe\">\n",
       "  <thead>\n",
       "    <tr style=\"text-align: right;\">\n",
       "      <th></th>\n",
       "      <th>Title</th>\n",
       "      <th>Year</th>\n",
       "      <th>Rated</th>\n",
       "      <th>Released</th>\n",
       "      <th>Runtime</th>\n",
       "      <th>Genre</th>\n",
       "      <th>Director</th>\n",
       "      <th>Writer</th>\n",
       "      <th>Actors</th>\n",
       "      <th>Plot</th>\n",
       "      <th>...</th>\n",
       "      <th>imdbVotes</th>\n",
       "      <th>imdbID</th>\n",
       "      <th>Type</th>\n",
       "      <th>DVD</th>\n",
       "      <th>BoxOffice</th>\n",
       "      <th>Production</th>\n",
       "      <th>Website</th>\n",
       "      <th>Response</th>\n",
       "      <th>ActorID</th>\n",
       "      <th>DirectorID</th>\n",
       "    </tr>\n",
       "  </thead>\n",
       "  <tbody>\n",
       "    <tr>\n",
       "      <th>0</th>\n",
       "      <td>The Honeymooners</td>\n",
       "      <td>2005</td>\n",
       "      <td>PG-13</td>\n",
       "      <td>10 Jun 2005</td>\n",
       "      <td>90 min</td>\n",
       "      <td>Comedy, Family, Romance</td>\n",
       "      <td>John Schultz</td>\n",
       "      <td>Danny Jacobson, David Sheffield, Barry W. Blau...</td>\n",
       "      <td>Cedric the Entertainer, Mike Epps, Gabrielle U...</td>\n",
       "      <td>Working class New York bus driver Ralph Kramde...</td>\n",
       "      <td>...</td>\n",
       "      <td>7,491</td>\n",
       "      <td>tt0373908</td>\n",
       "      <td>movie</td>\n",
       "      <td>15 Jun 2011</td>\n",
       "      <td>$12,843,849</td>\n",
       "      <td>N/A</td>\n",
       "      <td>N/A</td>\n",
       "      <td>True</td>\n",
       "      <td>[nm0147825, nm0258402, nm0005517]</td>\n",
       "      <td>nm0776271</td>\n",
       "    </tr>\n",
       "  </tbody>\n",
       "</table>\n",
       "<p>1 rows × 27 columns</p>\n",
       "</div>"
      ],
      "text/plain": [
       "              Title  Year  Rated     Released Runtime  \\\n",
       "0  The Honeymooners  2005  PG-13  10 Jun 2005  90 min   \n",
       "\n",
       "                     Genre      Director  \\\n",
       "0  Comedy, Family, Romance  John Schultz   \n",
       "\n",
       "                                              Writer  \\\n",
       "0  Danny Jacobson, David Sheffield, Barry W. Blau...   \n",
       "\n",
       "                                              Actors  \\\n",
       "0  Cedric the Entertainer, Mike Epps, Gabrielle U...   \n",
       "\n",
       "                                                Plot  ... imdbVotes  \\\n",
       "0  Working class New York bus driver Ralph Kramde...  ...     7,491   \n",
       "\n",
       "      imdbID   Type          DVD    BoxOffice Production Website Response  \\\n",
       "0  tt0373908  movie  15 Jun 2011  $12,843,849        N/A     N/A     True   \n",
       "\n",
       "                             ActorID DirectorID  \n",
       "0  [nm0147825, nm0258402, nm0005517]  nm0776271  \n",
       "\n",
       "[1 rows x 27 columns]"
      ]
     },
     "execution_count": 324,
     "metadata": {},
     "output_type": "execute_result"
    }
   ],
   "source": [
    "temp"
   ]
  },
  {
   "cell_type": "code",
   "execution_count": 302,
   "id": "b3483cbb",
   "metadata": {},
   "outputs": [
    {
     "data": {
      "text/plain": [
       "{'John Schultz': 'nm0776271',\n",
       " 'Danny Jacobson': 'nm0414816',\n",
       " 'David Sheffield': 'nm0790775',\n",
       " 'Barry W. Blaustein': 'nm0087904',\n",
       " 'Cedric The Entertainer': 'nm0147825',\n",
       " 'Mike Epps': 'nm0258402',\n",
       " 'Gabrielle Union': 'nm0005517'}"
      ]
     },
     "execution_count": 302,
     "metadata": {},
     "output_type": "execute_result"
    }
   ],
   "source": [
    "data"
   ]
  },
  {
   "cell_type": "code",
   "execution_count": 290,
   "id": "6fb31bcd",
   "metadata": {},
   "outputs": [
    {
     "data": {
      "text/plain": [
       "{'John Schultz': 'nm0776271',\n",
       " 'Danny Jacobson': 'nm0414816',\n",
       " 'David Sheffield': 'nm0790775',\n",
       " 'Barry W. Blaustein': 'nm0087904',\n",
       " 'Cedric The Entertainer': 'nm0147825',\n",
       " 'Mike Epps': 'nm0258402',\n",
       " 'Gabrielle Union': 'nm0005517'}"
      ]
     },
     "execution_count": 290,
     "metadata": {},
     "output_type": "execute_result"
    }
   ],
   "source": [
    "data"
   ]
  },
  {
   "cell_type": "code",
   "execution_count": 372,
   "id": "7128422e",
   "metadata": {},
   "outputs": [],
   "source": [
    "url = \"https://www.imdb.com/title/\"\n",
    "response = requests.get(url+ids[1192], headers={'User-Agent': 'Mozilla/5.0'})\n",
    "soup = BeautifulSoup(response.text, 'html.parser')\n",
    "    \n",
    "# # extracting budget\n",
    "# budget = spider.find_all('div', class_='sc-f65f65be-0 fVkLRr')[3].find(class_=\"ipc-metadata-list-item__list-content-item\")\n",
    "# budget = budget.text"
   ]
  },
  {
   "cell_type": "code",
   "execution_count": 383,
   "id": "45f2e123",
   "metadata": {},
   "outputs": [
    {
     "ename": "AttributeError",
     "evalue": "ResultSet object has no attribute 'find'. You're probably treating a list of elements like a single element. Did you call find_all() when you meant to call find()?",
     "output_type": "error",
     "traceback": [
      "\u001b[0;31m---------------------------------------------------------------------------\u001b[0m",
      "\u001b[0;31mAttributeError\u001b[0m                            Traceback (most recent call last)",
      "Cell \u001b[0;32mIn[383], line 1\u001b[0m\n\u001b[0;32m----> 1\u001b[0m budget \u001b[38;5;241m=\u001b[39m \u001b[43msoup\u001b[49m\u001b[38;5;241;43m.\u001b[39;49m\u001b[43mfind_all\u001b[49m\u001b[43m(\u001b[49m\u001b[38;5;124;43m'\u001b[39;49m\u001b[38;5;124;43mdiv\u001b[39;49m\u001b[38;5;124;43m'\u001b[39;49m\u001b[43m,\u001b[49m\u001b[43m \u001b[49m\u001b[43mclass_\u001b[49m\u001b[38;5;241;43m=\u001b[39;49m\u001b[38;5;124;43m'\u001b[39;49m\u001b[38;5;124;43msc-f65f65be-0 fVkLRr\u001b[39;49m\u001b[38;5;124;43m'\u001b[39;49m\u001b[43m)\u001b[49m\u001b[38;5;241;43m.\u001b[39;49m\u001b[43mfind\u001b[49m(class_\u001b[38;5;241m=\u001b[39m\u001b[38;5;124m\"\u001b[39m\u001b[38;5;124mipc-metadata-list-item__list-content-item\u001b[39m\u001b[38;5;124m\"\u001b[39m)\n\u001b[1;32m      2\u001b[0m budget \u001b[38;5;241m=\u001b[39m budget\u001b[38;5;241m.\u001b[39mtext\n\u001b[1;32m      3\u001b[0m budget\n",
      "File \u001b[0;32m~/opt/anaconda3/lib/python3.9/site-packages/bs4/element.py:2428\u001b[0m, in \u001b[0;36mResultSet.__getattr__\u001b[0;34m(self, key)\u001b[0m\n\u001b[1;32m   2426\u001b[0m \u001b[38;5;28;01mdef\u001b[39;00m \u001b[38;5;21m__getattr__\u001b[39m(\u001b[38;5;28mself\u001b[39m, key):\n\u001b[1;32m   2427\u001b[0m \u001b[38;5;250m    \u001b[39m\u001b[38;5;124;03m\"\"\"Raise a helpful exception to explain a common code fix.\"\"\"\u001b[39;00m\n\u001b[0;32m-> 2428\u001b[0m     \u001b[38;5;28;01mraise\u001b[39;00m \u001b[38;5;167;01mAttributeError\u001b[39;00m(\n\u001b[1;32m   2429\u001b[0m         \u001b[38;5;124m\"\u001b[39m\u001b[38;5;124mResultSet object has no attribute \u001b[39m\u001b[38;5;124m'\u001b[39m\u001b[38;5;132;01m%s\u001b[39;00m\u001b[38;5;124m'\u001b[39m\u001b[38;5;124m. You\u001b[39m\u001b[38;5;124m'\u001b[39m\u001b[38;5;124mre probably treating a list of elements like a single element. Did you call find_all() when you meant to call find()?\u001b[39m\u001b[38;5;124m\"\u001b[39m \u001b[38;5;241m%\u001b[39m key\n\u001b[1;32m   2430\u001b[0m     )\n",
      "\u001b[0;31mAttributeError\u001b[0m: ResultSet object has no attribute 'find'. You're probably treating a list of elements like a single element. Did you call find_all() when you meant to call find()?"
     ]
    }
   ],
   "source": [
    "budget = soup.find_all('div', class_='sc-f65f65be-0 fVkLRr').find(class_=\"ipc-metadata-list-item__list-content-item\")\n",
    "budget = budget.text\n",
    "budget"
   ]
  },
  {
   "cell_type": "code",
   "execution_count": 382,
   "id": "82f00122",
   "metadata": {},
   "outputs": [
    {
     "data": {
      "text/plain": [
       "[<li class=\"ipc-inline-list__item\" role=\"presentation\"><a aria-disabled=\"false\" class=\"ipc-metadata-list-item__list-content-item ipc-metadata-list-item__list-content-item--link\" href=\"/name/nm0680782/?ref_=tt_ov_dr\" role=\"button\" tabindex=\"0\">Sean MacLeod Phillips</a></li>,\n",
       " <li class=\"ipc-inline-list__item\" role=\"presentation\"><a aria-disabled=\"false\" class=\"ipc-metadata-list-item__list-content-item ipc-metadata-list-item__list-content-item--link\" href=\"/name/nm0724255/?ref_=tt_ov_wr\" role=\"button\" tabindex=\"0\">Mose Richards</a></li>,\n",
       " <li class=\"ipc-inline-list__item\" role=\"presentation\"><a aria-disabled=\"false\" class=\"ipc-metadata-list-item__list-content-item ipc-metadata-list-item__list-content-item--link\" href=\"/name/nm0000630/?ref_=tt_ov_st\" role=\"button\" tabindex=\"0\">Liev Schreiber</a></li>,\n",
       " <li class=\"ipc-inline-list__item\" role=\"presentation\"><a aria-disabled=\"false\" class=\"ipc-metadata-list-item__list-content-item ipc-metadata-list-item__list-content-item--link\" href=\"/name/nm2869099/?ref_=tt_ov_st\" role=\"button\" tabindex=\"0\">Jennifer Aguilar</a></li>,\n",
       " <li class=\"ipc-inline-list__item\" role=\"presentation\"><a aria-disabled=\"false\" class=\"ipc-metadata-list-item__list-content-item ipc-metadata-list-item__list-content-item--link\" href=\"/name/nm1244012/?ref_=tt_ov_st\" role=\"button\" tabindex=\"0\">Michael Ashcraft</a></li>]"
      ]
     },
     "execution_count": 382,
     "metadata": {},
     "output_type": "execute_result"
    }
   ],
   "source": [
    "header = soup.find('div', class_='sc-dffc6c81-3 jFHENY').find_all('li', class_=\"ipc-inline-list__item\")\n",
    "header"
   ]
  },
  {
   "cell_type": "code",
   "execution_count": 380,
   "id": "c2aebb25",
   "metadata": {},
   "outputs": [
    {
     "data": {
      "text/plain": [
       "'$23,746,066'"
      ]
     },
     "execution_count": 380,
     "metadata": {},
     "output_type": "execute_result"
    }
   ],
   "source": [
    "box_office = soup.find_all('div', class_='sc-f65f65be-0 fVkLRr')\n",
    "\n",
    "for i in range(1,len(box_office)):\n",
    "    text = box_office[i].find(class_=\"ipc-metadata-list-item__list-content-item\")\n",
    "    if text is None:\n",
    "        continue\n",
    "    else:\n",
    "        text = text.text\n",
    "        if '$' in text or '£' in text:\n",
    "            budget = text.split(' ')[0]\n",
    "            break\n",
    "        \n",
    "budget"
   ]
  },
  {
   "cell_type": "code",
   "execution_count": 238,
   "id": "0112c12b",
   "metadata": {},
   "outputs": [
    {
     "data": {
      "text/plain": [
       "'August 2, 2002 (United States)'"
      ]
     },
     "execution_count": 238,
     "metadata": {},
     "output_type": "execute_result"
    }
   ],
   "source": [
    "box_office[1].find(class_=\"ipc-metadata-list-item__list-content-item\").text"
   ]
  },
  {
   "cell_type": "code",
   "execution_count": 228,
   "id": "a358d351",
   "metadata": {},
   "outputs": [
    {
     "data": {
      "text/plain": [
       "'$5,000,000 (estimated)'"
      ]
     },
     "execution_count": 228,
     "metadata": {},
     "output_type": "execute_result"
    }
   ],
   "source": [
    "box_office[2].find(class_=\"ipc-metadata-list-item__list-content-item\").text"
   ]
  }
 ],
 "metadata": {
  "kernelspec": {
   "display_name": "Python 3 (ipykernel)",
   "language": "python",
   "name": "python3"
  },
  "language_info": {
   "codemirror_mode": {
    "name": "ipython",
    "version": 3
   },
   "file_extension": ".py",
   "mimetype": "text/x-python",
   "name": "python",
   "nbconvert_exporter": "python",
   "pygments_lexer": "ipython3",
   "version": "3.9.12"
  }
 },
 "nbformat": 4,
 "nbformat_minor": 5
}
